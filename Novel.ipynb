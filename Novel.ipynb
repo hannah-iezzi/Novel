{
  "nbformat": 4,
  "nbformat_minor": 0,
  "metadata": {
    "colab": {
      "name": "Novel.ipynb",
      "provenance": [],
      "authorship_tag": "ABX9TyPg/KzPfLzxYp6YCN+Up+FV",
      "include_colab_link": true
    },
    "kernelspec": {
      "name": "python3",
      "display_name": "Python 3"
    },
    "language_info": {
      "name": "python"
    }
  },
  "cells": [
    {
      "cell_type": "markdown",
      "metadata": {
        "id": "view-in-github",
        "colab_type": "text"
      },
      "source": [
        "<a href=\"https://colab.research.google.com/github/hannah-iezzi/Novel/blob/main/Novel.ipynb\" target=\"_parent\"><img src=\"https://colab.research.google.com/assets/colab-badge.svg\" alt=\"Open In Colab\"/></a>"
      ]
    },
    {
      "cell_type": "code",
      "metadata": {
        "id": "oJSu_3ccZSFZ"
      },
      "source": [
        "# read Frankenstein file\n",
        "with open(\"/content/frankenstein.txt\", errors=\"surrogateescape\") as f:\n",
        "  text = f.read()\n",
        "\n",
        "text = text.replace(\"Frankenstein\",\"Mr. Fluffy\")\n",
        "text = text.replace(\"monster\",\"fairy\")\n",
        "\n",
        "with open(\"/content/frankenstein.txt\",\"w\",errors=\"surrogateescape\") as f:\n",
        "  f.write(text)"
      ],
      "execution_count": 2,
      "outputs": []
    }
  ]
}